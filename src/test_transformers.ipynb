{
 "cells": [
  {
   "cell_type": "code",
   "execution_count": 1,
   "metadata": {},
   "outputs": [],
   "source": [
    "from transformer import Transformer\n",
    "import torch"
   ]
  },
  {
   "cell_type": "code",
   "execution_count": 11,
   "metadata": {},
   "outputs": [],
   "source": [
    "d_model = 512 \n",
    "num_heads = 8 \n",
    "n_blocks = 6 \n",
    "vocab_size = 100 \n",
    "max_length = 50 \n",
    "hidden_size = 2048\n",
    "dropout = 0.1\n",
    "mul = 4\n",
    "patch_size = 16 \n",
    "img_size = 224 \n",
    "is_conv = False\n",
    "cnn_enc = None\n",
    "is_set_grad = True\n",
    "device = 'cpu'"
   ]
  },
  {
   "cell_type": "code",
   "execution_count": 12,
   "metadata": {},
   "outputs": [],
   "source": [
    "trans = Transformer(d_model, num_heads, n_blocks, vocab_size, max_length, \n",
    "                 hidden_size, dropout, mul,patch_size, \n",
    "                 img_size, is_conv, cnn_enc, is_set_grad, device)"
   ]
  },
  {
   "cell_type": "code",
   "execution_count": 13,
   "metadata": {},
   "outputs": [],
   "source": [
    "img = torch.randn(size = (1, 1, img_size, img_size), device = device)\n",
    "seq = torch.randint(0, vocab_size, (1,), device= device).unsqueeze(0)"
   ]
  },
  {
   "cell_type": "code",
   "execution_count": 15,
   "metadata": {},
   "outputs": [
    {
     "data": {
      "text/plain": [
       "torch.Size([1, 1, 100])"
      ]
     },
     "execution_count": 15,
     "metadata": {},
     "output_type": "execute_result"
    }
   ],
   "source": [
    "trans(img, seq).shape"
   ]
  },
  {
   "cell_type": "code",
   "execution_count": null,
   "metadata": {},
   "outputs": [],
   "source": []
  }
 ],
 "metadata": {
  "kernelspec": {
   "display_name": "Python 3",
   "language": "python",
   "name": "python3"
  },
  "language_info": {
   "codemirror_mode": {
    "name": "ipython",
    "version": 3
   },
   "file_extension": ".py",
   "mimetype": "text/x-python",
   "name": "python",
   "nbconvert_exporter": "python",
   "pygments_lexer": "ipython3",
   "version": "3.10.10"
  },
  "orig_nbformat": 4
 },
 "nbformat": 4,
 "nbformat_minor": 2
}
